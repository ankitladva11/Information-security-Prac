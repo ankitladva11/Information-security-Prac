{
 "cells": [
  {
   "cell_type": "code",
   "execution_count": 49,
   "metadata": {},
   "outputs": [],
   "source": [
    "pt=\"instruments\"\n",
    "key=\"monarchy\""
   ]
  },
  {
   "cell_type": "code",
   "execution_count": 50,
   "metadata": {},
   "outputs": [],
   "source": [
    "def pfinaltext(pt):\n",
    "    n=len(pt)\n",
    "    pt_final=list(pt)\n",
    "    for i in range(n-1):\n",
    "        # print(pt[i])\n",
    "        if pt[i]==pt[i+1]:\n",
    "            pt_final.insert(i+1,\"x\")\n",
    "    if len(pt_final)%2!=0:\n",
    "        pt_final.append(\"x\")\n",
    "    return pt_final"
   ]
  },
  {
   "cell_type": "code",
   "execution_count": 51,
   "metadata": {},
   "outputs": [],
   "source": [
    "abc_arr=[chr(x)  for x in range(97,97+26)]\n",
    "# abc_arr\n",
    "pt_final=pfinaltext(key)"
   ]
  },
  {
   "cell_type": "code",
   "execution_count": 52,
   "metadata": {},
   "outputs": [
    {
     "data": {
      "text/plain": [
       "['m', 'o', 'n', 'a', 'r', 'c', 'h', 'y']"
      ]
     },
     "execution_count": 52,
     "metadata": {},
     "output_type": "execute_result"
    }
   ],
   "source": [
    "pt=pfinaltext(pt)\n",
    "pt_final\n"
   ]
  },
  {
   "cell_type": "code",
   "execution_count": 53,
   "metadata": {},
   "outputs": [
    {
     "data": {
      "text/plain": [
       "[['m', 'o', 'n', 'a', 'r'],\n",
       " ['c', 'h', 'y', 'b', 'd'],\n",
       " ['e', 'f', 'g', 'i/j', 'k'],\n",
       " ['l', 'p', 'q', 's', 't'],\n",
       " ['u', 'v', 'w', 'x', 'z']]"
      ]
     },
     "execution_count": 53,
     "metadata": {},
     "output_type": "execute_result"
    }
   ],
   "source": [
    "matrix=[]\n",
    "filled_list=[]\n",
    "for i in list(pt_final):\n",
    "    if i not in filled_list:\n",
    "        filled_list.append(i)\n",
    "for i in abc_arr:\n",
    "    if i not in filled_list:\n",
    "        if i==\"i\" and \"j\" not in filled_list:\n",
    "            filled_list.append(\"i/j\")\n",
    "            continue\n",
    "        if i==\"j\":\n",
    "            continue\n",
    "        if i==\"x\" and \"y\" not in filled_list:   \n",
    "            filled_list.append(\"x/y\")\n",
    "            filled_list.append(\"z\")\n",
    "            break\n",
    "        else:\n",
    "            filled_list.append(i)\n",
    "compli=[0,5,10,15,20]\n",
    "for i in compli:\n",
    "    matrix.append(filled_list[i:i+5])\n",
    "matrix"
   ]
  },
  {
   "cell_type": "code",
   "execution_count": 72,
   "metadata": {},
   "outputs": [
    {
     "data": {
      "text/plain": [
       "'i'"
      ]
     },
     "execution_count": 72,
     "metadata": {},
     "output_type": "execute_result"
    }
   ],
   "source": [
    "matrix[2][3][0]"
   ]
  },
  {
   "cell_type": "code",
   "execution_count": 101,
   "metadata": {},
   "outputs": [],
   "source": [
    "def search(mat, element):\n",
    "    for i in range(5):\n",
    "        for j in range(5):\n",
    "            if(mat[i][j] == element):\n",
    "                return i, j\n",
    "            elif(len(mat[i][j])==3 and element==\"i\" or element==\"j\"):\n",
    "                # if( or mat[i][j][2]==\"j\"):\n",
    "                # if(mat[i][j]==\"i\" or mat[i][j]==\"j\"):\n",
    "                return i,j"
   ]
  },
  {
   "cell_type": "code",
   "execution_count": 81,
   "metadata": {},
   "outputs": [
    {
     "data": {
      "text/plain": [
       "['i', 'n', 's', 't', 'r', 'u', 'm', 'e', 'n', 't', 's', 'x']"
      ]
     },
     "execution_count": 81,
     "metadata": {},
     "output_type": "execute_result"
    }
   ],
   "source": [
    "pt"
   ]
  },
  {
   "cell_type": "code",
   "execution_count": 97,
   "metadata": {},
   "outputs": [
    {
     "data": {
      "text/plain": [
       "'i'"
      ]
     },
     "execution_count": 97,
     "metadata": {},
     "output_type": "execute_result"
    }
   ],
   "source": [
    "# len(matrix[2][3])\n",
    "matrix[2][3][0]"
   ]
  },
  {
   "cell_type": "code",
   "execution_count": 102,
   "metadata": {},
   "outputs": [
    {
     "data": {
      "text/plain": [
       "(3, 3)"
      ]
     },
     "execution_count": 102,
     "metadata": {},
     "output_type": "execute_result"
    }
   ],
   "source": [
    "search(matrix,\"s\")"
   ]
  },
  {
   "cell_type": "code",
   "execution_count": 103,
   "metadata": {},
   "outputs": [
    {
     "data": {
      "text/plain": [
       "'gatlmzclrqxa'"
      ]
     },
     "execution_count": 103,
     "metadata": {},
     "output_type": "execute_result"
    }
   ],
   "source": [
    "cipher_text=[]\n",
    "# pt=list(pt)\n",
    "for i in range(0,len(pt),2):\n",
    "    # print(i)\n",
    "    fele_r,fele_c=search(matrix,pt[i])\n",
    "    sele_r,sele_c=search(matrix,pt[i+1])\n",
    "    \n",
    "    if (fele_r==sele_r):\n",
    "        fele_c=fele_c+1\n",
    "        sele_c=sele_c+1\n",
    "        cipher_text.append(matrix[fele_r][fele_c%5])\n",
    "        cipher_text.append(matrix[fele_r][sele_c%5])\n",
    "    if (fele_c==sele_c):\n",
    "        fele_r=fele_r+1\n",
    "        sele_r=sele_r+1\n",
    "        cipher_text.append(matrix[fele_r%5][fele_c])\n",
    "        cipher_text.append(matrix[sele_r%5][fele_c])\n",
    "    if (fele_c!=sele_c and fele_r!=sele_r):\n",
    "        # fele_c=fele_c+1\n",
    "        # sele_c=sele_c+1\n",
    "        cipher_text.append(matrix[fele_r][sele_c])\n",
    "        cipher_text.append(matrix[sele_r][fele_c])\n",
    "\"\".join(cipher_text)\n",
    "        \n",
    "        \n",
    "    "
   ]
  },
  {
   "cell_type": "code",
   "execution_count": 104,
   "metadata": {},
   "outputs": [],
   "source": [
    "# Cipher text: gatlmzclrqtx\n",
    "ct=\"gatlmzclrqxa\""
   ]
  },
  {
   "cell_type": "code",
   "execution_count": 105,
   "metadata": {},
   "outputs": [
    {
     "data": {
      "text/plain": [
       "'i/jnstrumentsx'"
      ]
     },
     "execution_count": 105,
     "metadata": {},
     "output_type": "execute_result"
    }
   ],
   "source": [
    "plain_text=[]\n",
    "# ct=list(pt)\n",
    "for i in range(0,len(ct),2):\n",
    "    # print(i)\n",
    "    fele_r,fele_c=search(matrix,ct[i])\n",
    "    sele_r,sele_c=search(matrix,ct[i+1])\n",
    "    \n",
    "    if (fele_r==sele_r):\n",
    "        fele_c=fele_c-1\n",
    "        sele_c=sele_c-1\n",
    "        plain_text.append(matrix[fele_r][fele_c%5])\n",
    "        plain_text.append(matrix[fele_r][sele_c%5])\n",
    "    if (fele_c==sele_c):\n",
    "        fele_r=fele_r-1\n",
    "        sele_r=sele_r-1\n",
    "        plain_text.append(matrix[fele_r%5][fele_c])\n",
    "        plain_text.append(matrix[sele_r%5][fele_c])\n",
    "    if (fele_c!=sele_c and fele_r!=sele_r):\n",
    "        # fele_c=fele_c+1\n",
    "        # sele_c=sele_c+1\n",
    "        plain_text.append(matrix[fele_r][sele_c])\n",
    "        plain_text.append(matrix[sele_r][fele_c])\n",
    "\"\".join(plain_text)\n",
    "        \n",
    "        \n",
    "    "
   ]
  },
  {
   "cell_type": "code",
   "execution_count": 84,
   "metadata": {},
   "outputs": [
    {
     "data": {
      "text/plain": [
       "['i', 'n', 's', 't', 'r', 'u', 'm', 'e', 'n', 't', 's', 'x']"
      ]
     },
     "execution_count": 84,
     "metadata": {},
     "output_type": "execute_result"
    }
   ],
   "source": [
    "pt"
   ]
  },
  {
   "cell_type": "code",
   "execution_count": 76,
   "metadata": {},
   "outputs": [],
   "source": [
    "search(matrix,pt[0])"
   ]
  },
  {
   "cell_type": "code",
   "execution_count": null,
   "metadata": {},
   "outputs": [],
   "source": []
  }
 ],
 "metadata": {
  "kernelspec": {
   "display_name": "base",
   "language": "python",
   "name": "python3"
  },
  "language_info": {
   "codemirror_mode": {
    "name": "ipython",
    "version": 3
   },
   "file_extension": ".py",
   "mimetype": "text/x-python",
   "name": "python",
   "nbconvert_exporter": "python",
   "pygments_lexer": "ipython3",
   "version": "3.8.8"
  },
  "orig_nbformat": 4,
  "vscode": {
   "interpreter": {
    "hash": "ed48bbe6901af0dc6c0b1ba0398ca2f757978f8fe52893c404caad807bf459ad"
   }
  }
 },
 "nbformat": 4,
 "nbformat_minor": 2
}
